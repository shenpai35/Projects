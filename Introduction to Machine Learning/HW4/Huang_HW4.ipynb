{
 "cells": [
  {
   "cell_type": "code",
   "execution_count": 2,
   "id": "c04b0e60",
   "metadata": {},
   "outputs": [],
   "source": [
    "#Author: Shen Chan Huang\n",
    "#dataset: MNIST_HW4\n",
    "#Task: Apply SVM with 3 kernels for classification problem\n",
    "#Validation: Use 5-fold cross-validation"
   ]
  },
  {
   "cell_type": "code",
   "execution_count": 37,
   "id": "0f9cfd00",
   "metadata": {},
   "outputs": [],
   "source": [
    "import pandas as pd\n",
    "import numpy as np\n",
    "from sklearn.svm import SVC\n",
    "from sklearn.preprocessing import StandardScaler, MinMaxScaler\n",
    "from sklearn.model_selection import KFold\n",
    "from sklearn.metrics import classification_report, accuracy_score\n",
    "\n",
    "file_name = 'MNIST_HW4.csv'\n",
    "df = pd.read_csv(file_name)"
   ]
  },
  {
   "cell_type": "code",
   "execution_count": 20,
   "id": "4ba80fee",
   "metadata": {},
   "outputs": [],
   "source": [
    "#set response variable\n",
    "y = df['label']\n",
    "X = df.drop('label', axis=1)"
   ]
  },
  {
   "cell_type": "code",
   "execution_count": 59,
   "id": "41be9ebd",
   "metadata": {},
   "outputs": [],
   "source": [
    "#define standard scaler\n",
    "std_scaler = StandardScaler()\n",
    "\n",
    "#define minmax scaler\n",
    "minmax_scaler = MinMaxScaler()"
   ]
  },
  {
   "cell_type": "code",
   "execution_count": 93,
   "id": "6671047c",
   "metadata": {},
   "outputs": [],
   "source": [
    "#define models\n",
    "model = SVC(kernel='linear')\n",
    "#model = SVC(kernel='poly')\n",
    "#model = SVC(kernel='rbf')"
   ]
  },
  {
   "cell_type": "code",
   "execution_count": 57,
   "id": "e101594e",
   "metadata": {},
   "outputs": [],
   "source": [
    "#define K-Fold Cross-Validation\n",
    "kf = KFold(n_splits=5, shuffle=True, random_state=42)"
   ]
  },
  {
   "cell_type": "code",
   "execution_count": 94,
   "id": "ad9cfbe5",
   "metadata": {},
   "outputs": [
    {
     "name": "stdout",
     "output_type": "stream",
     "text": [
      "[0.895, 0.86, 0.92, 0.85, 0.8442211055276382]\n",
      "0.8738442211055275\n"
     ]
    }
   ],
   "source": [
    "#loop over splits\n",
    "accuracy = list()\n",
    "for fold, (train_index, test_index) in enumerate(kf.split(X)):\n",
    "    X_train, y_train = X.iloc[train_index], y.iloc[train_index]\n",
    "    X_test, y_test = X.iloc[test_index], y.iloc[test_index]\n",
    "#    X_train_scaled = pd.DataFrame(minmax_scaler.fit_transform(X_train))\n",
    "#    X_test_scaled = pd.DataFrame(minmax_scaler.transform(X_test))\n",
    "#    model.fit(X_train_scaled, y_train)\n",
    "#    predictions = model.predict(X_test_scaled)\n",
    "    model.fit(X_train, y_train)\n",
    "    predictions = model.predict(X_test)\n",
    "    accuracy.append(accuracy_score(y_test, predictions))\n",
    "#    report = pd.DataFrame(classification_report(y_test, predictions, output_dict=True, digits=4))\n",
    "print(accuracy)\n",
    "print(np.mean(accuracy))"
   ]
  },
  {
   "cell_type": "code",
   "execution_count": null,
   "id": "bf53ef6d",
   "metadata": {},
   "outputs": [],
   "source": []
  }
 ],
 "metadata": {
  "kernelspec": {
   "display_name": "Python 3 (ipykernel)",
   "language": "python",
   "name": "python3"
  },
  "language_info": {
   "codemirror_mode": {
    "name": "ipython",
    "version": 3
   },
   "file_extension": ".py",
   "mimetype": "text/x-python",
   "name": "python",
   "nbconvert_exporter": "python",
   "pygments_lexer": "ipython3",
   "version": "3.9.7"
  }
 },
 "nbformat": 4,
 "nbformat_minor": 5
}
