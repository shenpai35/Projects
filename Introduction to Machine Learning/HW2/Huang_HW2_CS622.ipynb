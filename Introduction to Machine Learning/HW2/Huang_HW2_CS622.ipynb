{
 "cells": [
  {
   "cell_type": "markdown",
   "id": "c77f8aed",
   "metadata": {},
   "source": [
    " Author: Shen Chan Huang\n",
    " \n",
    " For: Dr. Mingon Kang \n",
    " \n",
    " CS622 -- Assignment 2"
   ]
  },
  {
   "cell_type": "code",
   "execution_count": 183,
   "id": "75f2e2ba",
   "metadata": {},
   "outputs": [],
   "source": [
    "#Read MNIST Train and Test Data\n",
    "import pandas as pd\n",
    "import numpy as np\n",
    "import statistics as st\n",
    "\n",
    "#merge two files together using concat\n",
    "csv_to_merge = ['MNIST_training.csv', 'MNIST_test.csv']\n",
    "X_full = pd.concat([pd.read_csv(f) for f in csv_to_merge], ignore_index=True)"
   ]
  },
  {
   "cell_type": "code",
   "execution_count": 192,
   "id": "1fdf2161",
   "metadata": {},
   "outputs": [],
   "source": [
    "#Writing splits as function, input N fold and experiment number\n",
    "def N_Fold_CV(N,exp_num,samp_range):\n",
    "    #set range of sampling\n",
    "    \n",
    "    #select samples for training and testing \n",
    "    X_test = X_full.iloc[samp_range*(exp_num-1):samp_range*exp_num]\n",
    "    labels_to_drop = list(X_test.index.values)\n",
    "    X_train = X_full.drop(labels_to_drop)\n",
    "    return X_train, X_test"
   ]
  },
  {
   "cell_type": "code",
   "execution_count": 185,
   "id": "103b5214",
   "metadata": {},
   "outputs": [],
   "source": [
    "#Minkowski distance, input vectors and power. \n",
    "def Mink_Dist(a,b,r):\n",
    "    D = np.power(np.abs(a-b),r)\n",
    "    x = sum(D)\n",
    "    return np.power(x, 1/r)"
   ]
  },
  {
   "cell_type": "code",
   "execution_count": 186,
   "id": "570e7e8f",
   "metadata": {},
   "outputs": [],
   "source": [
    "#Cosine Similarity, input vectors\n",
    "def cos_sim(a,b):\n",
    "    return np.dot(a,b)/(np.linalg.norm(a)*np.linalg.norm(b))"
   ]
  },
  {
   "cell_type": "code",
   "execution_count": 187,
   "id": "65b7cd37",
   "metadata": {},
   "outputs": [],
   "source": [
    "#KNN function returns the accuracy. It calculates the distance for 1 test sample at a time and predicts its class.\n",
    "def KNN(r,K):\n",
    "    vote_count = 0\n",
    "    for i in range(0,len(X_test)):\n",
    "        D_array=[]\n",
    "        for j in range(0,len(X_train)):\n",
    "            a = X_train[j][1:]\n",
    "            b = X_test[i][1:]\n",
    "            #Dist = Mink_Dist(a,b,r) #Calculate the distance between the query-instance and all the training examples\n",
    "            Dist = cos_sim(a,b) #r is not used for cos similarity\n",
    "            D_array.append([X_train[j][0],Dist])\n",
    "    #Sort the distance and determine nearest neighbors based on the k-th minimum distance\n",
    "        D_array = sorted(D_array, key=lambda x: x[1], reverse=True) #set False for Minkowski, True for cos similarity\n",
    "        majority = st.mode(p[0] for p in D_array[:K]) #Gather the category Y of nearest neighbors and majority vote\n",
    "        if majority == X_test[i][0]:\n",
    "            vote_count += 1\n",
    "    acc = vote_count/len(X_test)\n",
    "    return acc"
   ]
  },
  {
   "cell_type": "code",
   "execution_count": 205,
   "id": "8e6288d6",
   "metadata": {},
   "outputs": [],
   "source": [
    "#r is the power in the Minkowski Distance\n",
    "#K is the number of nearest neighbors\n",
    "#N is the number of folds in cross validation\n",
    "r = 2\n",
    "K = 10\n",
    "N = 5\n",
    "res = []\n",
    "samp_range = int(round(len(X_full)/N,0))\n",
    "#shuffle the dataframe since it is ordered\n",
    "X_full = X_full.sample(frac=1)\n",
    "\n",
    "for i in range(N):\n",
    "    #Set N fold split\n",
    "    X_train, X_test = N_Fold_CV(N,i+1,samp_range)\n",
    "    #converting to numpy arrays for easier calculations\n",
    "    X_train = X_train.to_numpy()\n",
    "    X_test = X_test.to_numpy()\n",
    "    res.append(KNN(r,K))\n",
    "avg_acc = np.mean(res)\n",
    " "
   ]
  },
  {
   "cell_type": "code",
   "execution_count": 203,
   "id": "322a08df",
   "metadata": {
    "scrolled": true
   },
   "outputs": [
    {
     "name": "stdout",
     "output_type": "stream",
     "text": [
      "Experiment       Accuracy\n",
      "Experiment 1      0.93\n",
      "Experiment 2      0.88\n",
      "Experiment 3      0.88\n",
      "Experiment 4      0.88\n",
      "Experiment 5      0.89\n",
      "Experiment 6      0.82\n",
      "Experiment 7      0.89\n",
      "Experiment 8      0.93\n",
      "Experiment 9      0.84\n",
      "Experiment 10      0.9090909090909091\n",
      "Average           0.884909090909091\n"
     ]
    }
   ],
   "source": [
    "space = ' '\n",
    "print(f'Experiment {space*5} Accuracy')\n",
    "for j in range(N):\n",
    "    print(f'Experiment {j+1} {space*4} {res[j]}' )\n",
    "print(f'Average {space*9} {avg_acc}')"
   ]
  },
  {
   "cell_type": "code",
   "execution_count": null,
   "id": "567e9221",
   "metadata": {},
   "outputs": [],
   "source": []
  }
 ],
 "metadata": {
  "kernelspec": {
   "display_name": "Python 3 (ipykernel)",
   "language": "python",
   "name": "python3"
  },
  "language_info": {
   "codemirror_mode": {
    "name": "ipython",
    "version": 3
   },
   "file_extension": ".py",
   "mimetype": "text/x-python",
   "name": "python",
   "nbconvert_exporter": "python",
   "pygments_lexer": "ipython3",
   "version": "3.9.7"
  }
 },
 "nbformat": 4,
 "nbformat_minor": 5
}
