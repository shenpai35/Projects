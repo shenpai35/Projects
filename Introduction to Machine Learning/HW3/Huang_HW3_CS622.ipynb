{
 "cells": [
  {
   "cell_type": "code",
   "execution_count": 16,
   "id": "bdfc7ff1",
   "metadata": {},
   "outputs": [],
   "source": [
    "import pandas as pd\n",
    "import numpy as np\n",
    "#lin reg b = (X'X)^(-1)X'Y\n",
    "#split data into training and testing set\n",
    "#normalize training data only (z-score(mu,std) or minmax)\n",
    "#train it\n",
    "#normalize test data by using parameters (e.g. mu and std) from step 2\n",
    "\n",
    "#First split into train and test THEN fill NA by mean!!!\n",
    "#or we can simply drop the rows with missing values...\n",
    "\n",
    "filename = 'auto-mpg.data'\n",
    "col_names =  ['mpg', 'cylinders', 'displacement', 'horsepower', 'weight', 'acceleration', \n",
    "                                            'model year', 'origin', 'car name']\n",
    "X = pd.read_fwf(filename, names = col_names)\n",
    "X = X.drop('car name', axis = 'columns') #dropping the features car name\n",
    "X = X.sample(frac=1) #randomize the dataset"
   ]
  },
  {
   "cell_type": "code",
   "execution_count": 4,
   "id": "14e11160",
   "metadata": {},
   "outputs": [],
   "source": [
    "#loads data with the given column names and drops the last column\n",
    "#it also converts dataframe to np arrays\n",
    "#First split into train and test THEN fill NA by mean!!!\n",
    "def impute_data(X):\n",
    "    \n",
    "    X = X.replace('?', np.NaN) #replaces '?' in the dataset with NaN\n",
    "    X = X.astype(float) #converts the whole dataset to float\n",
    "    \n",
    "    cols_with_missing = [col for col in X if X[col].isna().any() ]\n",
    "    X[cols_with_missing] = X[cols_with_missing].fillna(X[cols_with_missing].mean()) #fills NaN with mean of the feature horsepower\n",
    "    \n",
    "    #X = X.sample(frac=1)\n",
    "    X = np.array(X) #converts the X dataframe to np.array for easier computation\n",
    "    return X"
   ]
  },
  {
   "cell_type": "code",
   "execution_count": 5,
   "id": "030a06c9",
   "metadata": {},
   "outputs": [],
   "source": [
    "#Writing splits as function, input N fold and experiment number\n",
    "def N_Fold_CV(data, index):\n",
    "    #data = full_data\n",
    "    #select samples for training and testing \n",
    "    X_test = data.iloc[40*index: 40*(index+1),:] #398 data points, roughly 40 rows for testing\n",
    "    rows_to_drop = list(X_test.index.values)\n",
    "    X_train = data.drop(rows_to_drop)\n",
    "    Y_test = X_test['mpg'] #mpg column\n",
    "#    X_train = np.delete(data, slice(40*index, 40*(index+1)), axis = 0)\n",
    "    Y_train = X_train['mpg'] #mpg column\n",
    "    return X_train, Y_train, X_test, Y_test"
   ]
  },
  {
   "cell_type": "code",
   "execution_count": 6,
   "id": "753dd130",
   "metadata": {},
   "outputs": [],
   "source": [
    "#this function normalizes each column and saves the parameter for normalizing test\n",
    "def normalize(data):\n",
    "    param = []\n",
    "    for i in range(data.shape[1]): #exclude the column with ones\n",
    "        x = data[:,i].mean() #gets the mean of each column\n",
    "        y = data[:,i].std() #gets the standard deviation of each column\n",
    "        param.append((x,y)) \n",
    "        data[:,i] = (data[:,i] - x)/y\n",
    "    return param, data"
   ]
  },
  {
   "cell_type": "code",
   "execution_count": 7,
   "id": "e662a3f6",
   "metadata": {},
   "outputs": [],
   "source": [
    "def normalize_test(data, train_param):\n",
    "    for i in range(data.shape[1]):\n",
    "        x = train_param[i][0] #gets the mean of each column\n",
    "        y = train_param[i][1] #gets the standard deviation of each column\n",
    "        data[:,i] = (data[:,i] - x)/y\n",
    "    return data"
   ]
  },
  {
   "cell_type": "code",
   "execution_count": 8,
   "id": "565be975",
   "metadata": {},
   "outputs": [],
   "source": [
    "#lin reg b = (X'X)^(-1)X'Y\n",
    "def lin_reg(X,Y):\n",
    "    a = np.matmul(X.transpose(),X) #X'X\n",
    "    b = np.linalg.inv(a) #(X'X)^(-1)\n",
    "    c = np.matmul(b,X.transpose()) #(X'X)^(-1)X'\n",
    "    d = np.matmul(c,Y) #(X'X)^(-1)X'Y\n",
    "    return d"
   ]
  },
  {
   "cell_type": "code",
   "execution_count": 9,
   "id": "75c51f30",
   "metadata": {},
   "outputs": [],
   "source": [
    "def RMSE(X_test, Y_test, b):\n",
    "    square = np.power(Y_test - np.dot(X_test, b),2)\n",
    "    s = sum(square)\n",
    "    return np.power(s, 1/2)"
   ]
  },
  {
   "cell_type": "code",
   "execution_count": 10,
   "id": "5c7a17d2",
   "metadata": {},
   "outputs": [],
   "source": [
    "def compute_R2(test):\n",
    "    test_mean = test.mean()\n",
    "    SSTo = sum(np.power(test - test_mean,2))\n",
    "    return np.power(SSTo,1/2)"
   ]
  },
  {
   "cell_type": "code",
   "execution_count": 19,
   "id": "c35440b1",
   "metadata": {
    "scrolled": true
   },
   "outputs": [
    {
     "name": "stdout",
     "output_type": "stream",
     "text": [
      "Fold $1$ & $-0.0673$ & $0.2077$ & $-0.0498$ & $-0.7083$ & $0.0344$ & $0.3618$ & $0.1524$ & $2.6198$ \\\\\\hline\n",
      "Fold $2$ & $-0.0908$ & $0.294$ & $-0.0733$ & $-0.735$ & $0.0474$ & $0.3652$ & $0.1417$ & $2.418$ \\\\\\hline\n",
      "Fold $3$ & $-0.1362$ & $0.2816$ & $-0.0432$ & $-0.7501$ & $0.054$ & $0.3476$ & $0.112$ & $3.1042$ \\\\\\hline\n",
      "Fold $4$ & $-0.0732$ & $0.2216$ & $-0.0404$ & $-0.7319$ & $0.0362$ & $0.3616$ & $0.1426$ & $2.8051$ \\\\\\hline\n",
      "Fold $5$ & $-0.1091$ & $0.3113$ & $-0.0685$ & $-0.7433$ & $0.0293$ & $0.3672$ & $0.1506$ & $2.0094$ \\\\\\hline\n",
      "Fold $6$ & $-0.0496$ & $0.1368$ & $-0.0642$ & $-0.6664$ & $0.0086$ & $0.3583$ & $0.1486$ & $3.1907$ \\\\\\hline\n",
      "Fold $7$ & $-0.1101$ & $0.263$ & $-0.0266$ & $-0.7481$ & $0.038$ & $0.3577$ & $0.1547$ & $3.3534$ \\\\\\hline\n",
      "Fold $8$ & $-0.0727$ & $0.2286$ & $-0.0512$ & $-0.7238$ & $0.0393$ & $0.3619$ & $0.1427$ & $2.1895$ \\\\\\hline\n",
      "Fold $9$ & $-0.1141$ & $0.2971$ & $-0.0872$ & $-0.7292$ & $0.0303$ & $0.3483$ & $0.1554$ & $3.1671$ \\\\\\hline\n",
      "Fold $10$ & $-0.0901$ & $0.2822$ & $-0.0579$ & $-0.7413$ & $0.0422$ & $0.3494$ & $0.1539$ & $2.1603$ \\\\\\hline\n"
     ]
    }
   ],
   "source": [
    "for N in range(10):\n",
    "    X_train, Y_train, X_test, Y_test = N_Fold_CV(X,N)\n",
    "    X_train, X_test = impute_data(X_train), impute_data(X_test)\n",
    "    Y_train, Y_test = np.array(Y_train), np.array(Y_test)\n",
    "    train_param, X_train_norm = normalize(X_train)\n",
    "    Y_train_norm = X_train_norm[:,0]\n",
    "    X_train_norm = X_train_norm[:,1:]\n",
    "    X_mat = np.insert(X_train_norm,0,1,axis=1)\n",
    "    b = lin_reg(X_mat, Y_train_norm)\n",
    "    X_test_norm = normalize_test(X_test, train_param)\n",
    "    Y_test_norm = X_test_norm[:,0]\n",
    "    X_test_norm = X_test_norm[:,1:]\n",
    "    X_test_mat = np.insert(X_test_norm,0,1,axis=1)\n",
    "    print(f'Fold ${N+1}$ & ${round(b[1],4)}$ & ${round(b[2],4)}$ & ${round(b[3],4)}$ & ${round(b[4],4)}$ & ${round(b[5],4)}$ & ${round(b[6],4)}$ & ${round(b[7],4)}$ & ${round(RMSE(X_test_mat, Y_test_norm, b),4)}$ \\\\\\\\\\hline')\n",
    "    #    print(f'Fold ${N+1}$ & $R^2 = {1 - np.power(RMSE(X_test_mat, Y_test_norm, b),2)/np.power(compute_R2(Y_test_norm),2)}$\\\\\\\\\\hline')"
   ]
  }
 ],
 "metadata": {
  "kernelspec": {
   "display_name": "Python 3 (ipykernel)",
   "language": "python",
   "name": "python3"
  },
  "language_info": {
   "codemirror_mode": {
    "name": "ipython",
    "version": 3
   },
   "file_extension": ".py",
   "mimetype": "text/x-python",
   "name": "python",
   "nbconvert_exporter": "python",
   "pygments_lexer": "ipython3",
   "version": "3.10.9"
  }
 },
 "nbformat": 4,
 "nbformat_minor": 5
}
